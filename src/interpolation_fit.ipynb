{
 "cells": [
  {
   "cell_type": "code",
   "execution_count": 2,
   "metadata": {},
   "outputs": [],
   "source": [
    "import pandas as pd\n",
    "import numpy as np \n",
    "import matplotlib.pyplot as plt \n",
    "%matplotlib inline"
   ]
  },
  {
   "cell_type": "code",
   "execution_count": 6,
   "metadata": {},
   "outputs": [],
   "source": [
    "class Interpolation:\n",
    "    def __init__(self) -> None:\n",
    "        pass\n",
    "    def lagrange_int(self):\n",
    "        pass\n",
    "    def newton_int(self):\n",
    "        pass\n",
    "    def spline_int(self):\n",
    "        pass\n",
    "    def cal_accuracy(self):\n",
    "        pass"
   ]
  },
  {
   "cell_type": "code",
   "execution_count": 7,
   "metadata": {},
   "outputs": [],
   "source": [
    "class Fit:\n",
    "    def __init__(self) -> None:\n",
    "        pass\n",
    "    def log_least_squares(self):\n",
    "        pass\n",
    "    def cal_loss(self):\n",
    "        pass"
   ]
  },
  {
   "cell_type": "code",
   "execution_count": 8,
   "metadata": {},
   "outputs": [],
   "source": [
    "df = pd.read_excel(\"../data/第一次作业.xlsx\", sheet_name=\"插值\", header=None)"
   ]
  },
  {
   "cell_type": "code",
   "execution_count": 9,
   "metadata": {},
   "outputs": [],
   "source": [
    "df2 = pd.read_excel(\"../data/第一次作业.xlsx\", sheet_name=\"拟合\", header=None)"
   ]
  },
  {
   "cell_type": "code",
   "execution_count": null,
   "metadata": {},
   "outputs": [],
   "source": []
  }
 ],
 "metadata": {
  "kernelspec": {
   "display_name": "Python 3.9.12 ('drl')",
   "language": "python",
   "name": "python3"
  },
  "language_info": {
   "codemirror_mode": {
    "name": "ipython",
    "version": 3
   },
   "file_extension": ".py",
   "mimetype": "text/x-python",
   "name": "python",
   "nbconvert_exporter": "python",
   "pygments_lexer": "ipython3",
   "version": "3.9.12"
  },
  "orig_nbformat": 4,
  "vscode": {
   "interpreter": {
    "hash": "982988c5de13bfa104ec4f6e79d377853543840ed82930a1beb1c37ab0dac5c1"
   }
  }
 },
 "nbformat": 4,
 "nbformat_minor": 2
}
