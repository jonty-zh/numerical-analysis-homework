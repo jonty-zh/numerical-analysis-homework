{
 "cells": [
  {
   "cell_type": "code",
   "execution_count": 1,
   "metadata": {},
   "outputs": [],
   "source": [
    "import numpy as np\n",
    "import matplotlib.pyplot as plt\n",
    "from scipy.optimize import leastsq\n",
    "from scipy.interpolate import lagrange"
   ]
  },
  {
   "cell_type": "code",
   "execution_count": 2,
   "metadata": {},
   "outputs": [],
   "source": [
    "years = np.arange(1960, 2021, 10)\n",
    "populations = np.array([180671, 205052, 227225, 249623, 282162, 309327, 329484])"
   ]
  },
  {
   "cell_type": "code",
   "execution_count": 5,
   "metadata": {},
   "outputs": [
    {
     "name": "stdout",
     "output_type": "stream",
     "text": [
      " 年:  [1960 1970 1980 1990 2000 2010 2020]\n",
      "人口:  [180671 205052 227225 249623 282162 309327 329484]\n",
      "--------------------------------------------------------------------------------\n",
      "Lagrange插值函数:\n",
      "            6         5        4            3             2\n",
      "0.0001003 x - 1.197 x + 5956 x - 1.58e+07 x + 2.357e+10 x - 1.876e+13 x + 6.219e+15\n",
      "1950年人口近似值:  263750.0\n",
      "2005年人口近似值:  297159.0\n",
      "2030年人口近似值:  465733.0\n"
     ]
    }
   ],
   "source": [
    "Ln = lagrange(years, populations)\n",
    "print(\" 年: \", years)\n",
    "print(\"人口: \", populations)\n",
    "print(80*\"-\")\n",
    "print(\"Lagrange插值函数:\\n\", Ln)\n",
    "print(\"1950年人口近似值: \", Ln(1950))\n",
    "print(\"2005年人口近似值: \", Ln(2005))\n",
    "print(\"2030年人口近似值: \", Ln(2030))"
   ]
  },
  {
   "cell_type": "code",
   "execution_count": 6,
   "metadata": {},
   "outputs": [
    {
     "name": "stdout",
     "output_type": "stream",
     "text": [
      "0.7429258686544282\n"
     ]
    }
   ],
   "source": [
    "p_1950 = 151326\n",
    "er = abs(p_1950-Ln(1950))/p_1950\n",
    "print(er)"
   ]
  },
  {
   "cell_type": "code",
   "execution_count": 7,
   "metadata": {},
   "outputs": [],
   "source": [
    "# 牛顿插值"
   ]
  },
  {
   "cell_type": "code",
   "execution_count": 8,
   "metadata": {},
   "outputs": [],
   "source": [
    "# 自由三次样条插值"
   ]
  },
  {
   "cell_type": "code",
   "execution_count": null,
   "metadata": {},
   "outputs": [],
   "source": []
  }
 ],
 "metadata": {
  "kernelspec": {
   "display_name": "Python 3.9.12 ('drl')",
   "language": "python",
   "name": "python3"
  },
  "language_info": {
   "codemirror_mode": {
    "name": "ipython",
    "version": 3
   },
   "file_extension": ".py",
   "mimetype": "text/x-python",
   "name": "python",
   "nbconvert_exporter": "python",
   "pygments_lexer": "ipython3",
   "version": "3.9.12"
  },
  "orig_nbformat": 4,
  "vscode": {
   "interpreter": {
    "hash": "982988c5de13bfa104ec4f6e79d377853543840ed82930a1beb1c37ab0dac5c1"
   }
  }
 },
 "nbformat": 4,
 "nbformat_minor": 2
}
