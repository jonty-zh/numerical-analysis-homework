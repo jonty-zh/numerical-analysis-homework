{
 "cells": [
  {
   "cell_type": "markdown",
   "metadata": {},
   "source": [
    "## 非线性方程求根与数值积分综合"
   ]
  },
  {
   "cell_type": "code",
   "execution_count": null,
   "metadata": {},
   "outputs": [],
   "source": []
  }
 ],
 "metadata": {
  "kernelspec": {
   "display_name": "Python 3.9.12 ('drl')",
   "language": "python",
   "name": "python3"
  },
  "language_info": {
   "name": "python",
   "version": "3.9.12"
  },
  "orig_nbformat": 4,
  "vscode": {
   "interpreter": {
    "hash": "982988c5de13bfa104ec4f6e79d377853543840ed82930a1beb1c37ab0dac5c1"
   }
  }
 },
 "nbformat": 4,
 "nbformat_minor": 2
}
