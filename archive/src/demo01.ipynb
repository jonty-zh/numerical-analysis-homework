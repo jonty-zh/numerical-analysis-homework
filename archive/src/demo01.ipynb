{
 "cells": [
  {
   "cell_type": "code",
   "execution_count": 25,
   "metadata": {},
   "outputs": [],
   "source": [
    "import pandas as pd\n",
    "import numpy as np \n",
    "import matplotlib.pyplot as plt \n",
    "%matplotlib inline"
   ]
  },
  {
   "cell_type": "code",
   "execution_count": 26,
   "metadata": {},
   "outputs": [
    {
     "name": "stdout",
     "output_type": "stream",
     "text": [
      "[1960 1970 1980 1990 2000 2010 2020]\n",
      "[180671 205052 227225 249623 282162 309327 329484]\n"
     ]
    }
   ],
   "source": [
    "years = np.arange(1960, 2021, 10)\n",
    "populations = np.array([180671, 205052, 227225, 249623, 282162, 309327, 329484])\n",
    "print(years)\n",
    "print(populations)"
   ]
  },
  {
   "cell_type": "code",
   "execution_count": 27,
   "metadata": {},
   "outputs": [],
   "source": [
    "x = 1950"
   ]
  },
  {
   "cell_type": "code",
   "execution_count": 28,
   "metadata": {},
   "outputs": [
    {
     "name": "stdout",
     "output_type": "stream",
     "text": [
      "-50400000000.0\n"
     ]
    }
   ],
   "source": [
    "wx = np.prod(np.linspace(x, x, years.size) - years)\n",
    "print(wx)"
   ]
  },
  {
   "cell_type": "code",
   "execution_count": 29,
   "metadata": {},
   "outputs": [
    {
     "name": "stdout",
     "output_type": "stream",
     "text": [
      "720000000.0\n",
      "-120000000.0\n",
      "48000000.0\n",
      "-36000000.0\n",
      "48000000.0\n",
      "-120000000.0\n",
      "720000000.0\n",
      "[ 1264697. -4306092.  7952875. -8736805.  5925402. -2165289.   329484.]\n",
      "264272.0\n"
     ]
    }
   ],
   "source": [
    "li = 0\n",
    "l = np.zeros(7)\n",
    "for i in range(years.size):\n",
    "    # wx = np.prod(np.linspace(x, x, years.size) - years)\n",
    "    xk = years[i]\n",
    "    a = np.linspace(xk, xk, years.size) - years\n",
    "    b = np.delete(a, i)\n",
    "    dwxk = np.prod(b)\n",
    "    print(dwxk)\n",
    "    l[i] = populations[i] * wx / ((x - xk) * dwxk)\n",
    "print(l)\n",
    "print(l.sum())"
   ]
  },
  {
   "cell_type": "code",
   "execution_count": 30,
   "metadata": {},
   "outputs": [
    {
     "data": {
      "text/plain": [
       "[<matplotlib.lines.Line2D at 0x1610e9280>]"
      ]
     },
     "execution_count": 30,
     "metadata": {},
     "output_type": "execute_result"
    },
    {
     "data": {
      "image/png": "[encoded data removed]",
      "text/plain": [
       "<Figure size 432x288 with 1 Axes>"
      ]
     },
     "metadata": {
      "needs_background": "light"
     },
     "output_type": "display_data"
    }
   ],
   "source": [
    "plt.plot(years, populations)"
   ]
  },
  {
   "cell_type": "code",
   "execution_count": null,
   "metadata": {},
   "outputs": [],
   "source": []
  }
 ],
 "metadata": {
  "kernelspec": {
   "display_name": "Python 3.9.12 ('drl')",
   "language": "python",
   "name": "python3"
  },
  "language_info": {
   "codemirror_mode": {
    "name": "ipython",
    "version": 3
   },
   "file_extension": ".py",
   "mimetype": "text/x-python",
   "name": "python",
   "nbconvert_exporter": "python",
   "pygments_lexer": "ipython3",
   "version": "3.9.12"
  },
  "orig_nbformat": 4,
  "vscode": {
   "interpreter": {
    "hash": "982988c5de13bfa104ec4f6e79d377853543840ed82930a1beb1c37ab0dac5c1"
   }
  }
 },
 "nbformat": 4,
 "nbformat_minor": 2
}
